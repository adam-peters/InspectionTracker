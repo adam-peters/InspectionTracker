{
 "cells": [
  {
   "cell_type": "code",
   "execution_count": 18,
   "id": "df9fbcce",
   "metadata": {},
   "outputs": [],
   "source": [
    "import pandas as pd\n",
    "import dataframe_image as dfi"
   ]
  },
  {
   "cell_type": "code",
   "execution_count": 19,
   "id": "ad2dde55",
   "metadata": {},
   "outputs": [],
   "source": [
    "filepath = \"data/Summer_Staff_Inspection_Tracker_8_3.xlsx\""
   ]
  },
  {
   "cell_type": "code",
   "execution_count": 20,
   "id": "9197699c",
   "metadata": {},
   "outputs": [],
   "source": [
    "pd.set_option('display.max_colwidth', 255)\n",
    "pd.set_option('display.max_rows', 500)"
   ]
  },
  {
   "cell_type": "code",
   "execution_count": 21,
   "id": "de43f9b4",
   "metadata": {},
   "outputs": [],
   "source": [
    "df_dict = pd.read_excel(filepath, sheet_name=None)"
   ]
  },
  {
   "cell_type": "code",
   "execution_count": 22,
   "id": "e3be90e7",
   "metadata": {},
   "outputs": [],
   "source": [
    "columns = {\n",
    "    \"RD Input\" : \"Unit\",\n",
    "    \"Unnamed: 1\" : \"Ready\",\n",
    "    \"Unnamed: 2\" : \"RD Notes\",\n",
    "    \"Unnamed: 3\" : \"Deadline\", \n",
    "    \"Unnamed: 4\" : \"Person\",\n",
    "    \"Unnamed: 7\" : \"Complete\",\n",
    "}"
   ]
  },
  {
   "cell_type": "code",
   "execution_count": 23,
   "id": "f62418c6",
   "metadata": {},
   "outputs": [],
   "source": [
    "col_to_drop = [\"Unnamed: 5\", \"Unnamed: 8\", \"Unnamed: 9\", \"Unnamed: 10\", \"Unnamed: 11\"]"
   ]
  },
  {
   "cell_type": "code",
   "execution_count": 24,
   "id": "d7b55814",
   "metadata": {},
   "outputs": [],
   "source": [
    "students = {}"
   ]
  },
  {
   "cell_type": "code",
   "execution_count": 25,
   "id": "cfb445ca",
   "metadata": {
    "scrolled": true
   },
   "outputs": [
    {
     "name": "stdout",
     "output_type": "stream",
     "text": [
      "Cleaning Data...\n",
      "Data Cleaned.\n",
      "Cleaning Data...\n",
      "Data Cleaned.\n",
      "Cleaning Data...\n",
      "Data Cleaned.\n",
      "Cleaning Data...\n",
      "Data Cleaned.\n",
      "Cleaning Data...\n",
      "Data Cleaned.\n",
      "Cleaning Data...\n",
      "Data Cleaned.\n",
      "Cleaning Data...\n",
      "Data Cleaned.\n",
      "Cleaning Data...\n",
      "Data Cleaned.\n",
      "Cleaning Data...\n",
      "Data Cleaned.\n",
      "Cleaning Data...\n",
      "Data Cleaned.\n",
      "Cleaning Data...\n",
      "Data Cleaned.\n",
      "Cleaning Data...\n",
      "Data Cleaned.\n",
      "Cleaning Data...\n",
      "Data Cleaned.\n",
      "Cleaning Data...\n",
      "Error: No Such Columns (Columns Already Deleted)\n",
      "Data Cleaned.\n"
     ]
    }
   ],
   "source": [
    "for data in df_dict.values():\n",
    "    print(\"Cleaning Data...\")\n",
    "    try:\n",
    "        data.drop(index=0, inplace=True)\n",
    "        data.drop(index=1, inplace=True)\n",
    "    except:\n",
    "        print(\"Error: No Such Row (Row Already Deleted)\")\n",
    "    try:\n",
    "        data.drop(columns=col_to_drop, inplace=True)\n",
    "    except:\n",
    "        print(\"Error: No Such Columns (Columns Already Deleted)\")\n",
    "    try:\n",
    "        data.rename(columns=columns, inplace=True)\n",
    "    except:\n",
    "        print(\"Error: Columns already renamed\")\n",
    "    try:\n",
    "        data.dropna(subset=\"Person\", inplace=True)\n",
    "    except:\n",
    "        print(\"Error: No Null Values Found\")\n",
    "    try:\n",
    "        data[\"Deadline\"] = pd.to_datetime(data[\"Deadline\"])\n",
    "    except:\n",
    "        print(\"Error: Datetime Conversion\")\n",
    "    print(\"Data Cleaned.\")"
   ]
  },
  {
   "cell_type": "code",
   "execution_count": 26,
   "id": "c3ed4b8c",
   "metadata": {
    "scrolled": true
   },
   "outputs": [],
   "source": [
    "df = pd.concat(df_dict)"
   ]
  },
  {
   "cell_type": "code",
   "execution_count": 27,
   "id": "1d90ab18",
   "metadata": {},
   "outputs": [],
   "source": [
    "columns = [\"Unit\", \"Ready\", \"RD Notes\", \"Deadline\", \"Person\", \"Complete\", \"Admin RD Input\"]\n",
    "df = df[columns]"
   ]
  },
  {
   "cell_type": "code",
   "execution_count": 28,
   "id": "a609f7f0",
   "metadata": {
    "scrolled": true
   },
   "outputs": [],
   "source": [
    "df = df[df[\"Complete\"] == False]\n",
    "df.set_index(\"Person\", inplace=True)"
   ]
  },
  {
   "cell_type": "code",
   "execution_count": 29,
   "id": "4f35cc35",
   "metadata": {},
   "outputs": [],
   "source": [
    "df[\"Deadline\"] = pd.to_datetime(df[\"Deadline\"])"
   ]
  },
  {
   "cell_type": "code",
   "execution_count": 30,
   "id": "44a95914",
   "metadata": {
    "scrolled": true
   },
   "outputs": [],
   "source": [
    "df[\"Unit\"].fillna(df[\"Admin RD Input\"], inplace=True)\n",
    "df.drop(columns=[\"Admin RD Input\", \"Complete\"], inplace=True)"
   ]
  },
  {
   "cell_type": "code",
   "execution_count": 31,
   "id": "d38e7d95",
   "metadata": {},
   "outputs": [],
   "source": [
    "df = df.sort_values(by=[\"Person\", \"Deadline\", \"Unit\"])"
   ]
  },
  {
   "cell_type": "code",
   "execution_count": 32,
   "id": "8e77f0ca",
   "metadata": {},
   "outputs": [],
   "source": [
    "df.set_index([df.index, df[\"Deadline\"]], inplace=True)\n",
    "df.drop(columns=\"Deadline\", inplace=True)"
   ]
  },
  {
   "cell_type": "code",
   "execution_count": 33,
   "id": "96ad0fa4",
   "metadata": {},
   "outputs": [
    {
     "data": {
      "text/html": [
       "<div>\n",
       "<style scoped>\n",
       "    .dataframe tbody tr th:only-of-type {\n",
       "        vertical-align: middle;\n",
       "    }\n",
       "\n",
       "    .dataframe tbody tr th {\n",
       "        vertical-align: top;\n",
       "    }\n",
       "\n",
       "    .dataframe thead th {\n",
       "        text-align: right;\n",
       "    }\n",
       "</style>\n",
       "<table border=\"1\" class=\"dataframe\">\n",
       "  <thead>\n",
       "    <tr style=\"text-align: right;\">\n",
       "      <th></th>\n",
       "      <th></th>\n",
       "      <th>Unit</th>\n",
       "      <th>Ready</th>\n",
       "      <th>RD Notes</th>\n",
       "    </tr>\n",
       "    <tr>\n",
       "      <th>Person</th>\n",
       "      <th>Deadline</th>\n",
       "      <th></th>\n",
       "      <th></th>\n",
       "      <th></th>\n",
       "    </tr>\n",
       "  </thead>\n",
       "  <tbody>\n",
       "    <tr>\n",
       "      <th rowspan=\"2\" valign=\"top\">Adam</th>\n",
       "      <th>2023-08-03</th>\n",
       "      <td>UP Men 104</td>\n",
       "      <td>True</td>\n",
       "      <td>NaN</td>\n",
       "    </tr>\n",
       "    <tr>\n",
       "      <th>NaT</th>\n",
       "      <td>UP Men 149</td>\n",
       "      <td>False</td>\n",
       "      <td>NaN</td>\n",
       "    </tr>\n",
       "    <tr>\n",
       "      <th rowspan=\"2\" valign=\"top\">Aliza</th>\n",
       "      <th>2023-08-03</th>\n",
       "      <td>Colony N K8</td>\n",
       "      <td>True</td>\n",
       "      <td>NaN</td>\n",
       "    </tr>\n",
       "    <tr>\n",
       "      <th>NaT</th>\n",
       "      <td>UP Men 111</td>\n",
       "      <td>False</td>\n",
       "      <td>NaN</td>\n",
       "    </tr>\n",
       "    <tr>\n",
       "      <th rowspan=\"5\" valign=\"top\">Ana</th>\n",
       "      <th>2023-07-27</th>\n",
       "      <td>Colony N N6</td>\n",
       "      <td>True</td>\n",
       "      <td>Please inspect all bedspaces; unit empty</td>\n",
       "    </tr>\n",
       "    <tr>\n",
       "      <th>2023-08-02</th>\n",
       "      <td>Colony E KK2</td>\n",
       "      <td>True</td>\n",
       "      <td>unit empty</td>\n",
       "    </tr>\n",
       "    <tr>\n",
       "      <th>2023-08-02</th>\n",
       "      <td>Colony N N1</td>\n",
       "      <td>True</td>\n",
       "      <td>Please inspect A1 bedspaces; unit empty</td>\n",
       "    </tr>\n",
       "    <tr>\n",
       "      <th>2023-08-02</th>\n",
       "      <td>Colony W RR1</td>\n",
       "      <td>True</td>\n",
       "      <td>no current residents in unit, please inspect all bed spaces</td>\n",
       "    </tr>\n",
       "    <tr>\n",
       "      <th>2023-08-03</th>\n",
       "      <td>Colony W PP1</td>\n",
       "      <td>True</td>\n",
       "      <td>no current residents in unit, please inspect all bed spaces</td>\n",
       "    </tr>\n",
       "    <tr>\n",
       "      <th rowspan=\"3\" valign=\"top\">Cadence</th>\n",
       "      <th>2023-08-03</th>\n",
       "      <td>Colony N G3</td>\n",
       "      <td>True</td>\n",
       "      <td>unit empty; please inspect A1 bedspace</td>\n",
       "    </tr>\n",
       "    <tr>\n",
       "      <th>2023-08-03</th>\n",
       "      <td>Colony N G4</td>\n",
       "      <td>True</td>\n",
       "      <td>unit empty; please inspect A1 bedspace</td>\n",
       "    </tr>\n",
       "    <tr>\n",
       "      <th>2023-08-03</th>\n",
       "      <td>UP Men 202</td>\n",
       "      <td>False</td>\n",
       "      <td>NaN</td>\n",
       "    </tr>\n",
       "    <tr>\n",
       "      <th rowspan=\"7\" valign=\"top\">Paul</th>\n",
       "      <th>2023-07-27</th>\n",
       "      <td>Colony N L2</td>\n",
       "      <td>True</td>\n",
       "      <td>Please inspect A room bedspaces; unit empty</td>\n",
       "    </tr>\n",
       "    <tr>\n",
       "      <th>2023-08-02</th>\n",
       "      <td>Colony N M2</td>\n",
       "      <td>True</td>\n",
       "      <td>Please inspect A1/A3 bedspaces; unit empty</td>\n",
       "    </tr>\n",
       "    <tr>\n",
       "      <th>2023-08-02</th>\n",
       "      <td>Point 33</td>\n",
       "      <td>True</td>\n",
       "      <td>Unit is empty</td>\n",
       "    </tr>\n",
       "    <tr>\n",
       "      <th>2023-08-02</th>\n",
       "      <td>Point 82</td>\n",
       "      <td>True</td>\n",
       "      <td>Unit is empty</td>\n",
       "    </tr>\n",
       "    <tr>\n",
       "      <th>2023-08-02</th>\n",
       "      <td>Village 207</td>\n",
       "      <td>True</td>\n",
       "      <td>NaN</td>\n",
       "    </tr>\n",
       "    <tr>\n",
       "      <th>2023-08-02</th>\n",
       "      <td>Village 508</td>\n",
       "      <td>True</td>\n",
       "      <td>NaN</td>\n",
       "    </tr>\n",
       "    <tr>\n",
       "      <th>2023-08-03</th>\n",
       "      <td>Colony N M3</td>\n",
       "      <td>True</td>\n",
       "      <td>Please inspect all bedspaces; unit empty until 8/4</td>\n",
       "    </tr>\n",
       "    <tr>\n",
       "      <th rowspan=\"3\" valign=\"top\">Sadie</th>\n",
       "      <th>2023-06-29</th>\n",
       "      <td>UP Men 120</td>\n",
       "      <td>False</td>\n",
       "      <td>Unit empty</td>\n",
       "    </tr>\n",
       "    <tr>\n",
       "      <th>2023-06-29</th>\n",
       "      <td>UP Men 153</td>\n",
       "      <td>False</td>\n",
       "      <td>Unit empty</td>\n",
       "    </tr>\n",
       "    <tr>\n",
       "      <th>2023-08-03</th>\n",
       "      <td>Colony E MM3</td>\n",
       "      <td>True</td>\n",
       "      <td>Please inspect all bedspaces; unit empty</td>\n",
       "    </tr>\n",
       "  </tbody>\n",
       "</table>\n",
       "</div>"
      ],
      "text/plain": [
       "                            Unit  Ready  \\\n",
       "Person  Deadline                          \n",
       "Adam    2023-08-03    UP Men 104   True   \n",
       "        NaT           UP Men 149  False   \n",
       "Aliza   2023-08-03   Colony N K8   True   \n",
       "        NaT           UP Men 111  False   \n",
       "Ana     2023-07-27   Colony N N6   True   \n",
       "        2023-08-02  Colony E KK2   True   \n",
       "        2023-08-02   Colony N N1   True   \n",
       "        2023-08-02  Colony W RR1   True   \n",
       "        2023-08-03  Colony W PP1   True   \n",
       "Cadence 2023-08-03   Colony N G3   True   \n",
       "        2023-08-03   Colony N G4   True   \n",
       "        2023-08-03    UP Men 202  False   \n",
       "Paul    2023-07-27   Colony N L2   True   \n",
       "        2023-08-02   Colony N M2   True   \n",
       "        2023-08-02      Point 33   True   \n",
       "        2023-08-02      Point 82   True   \n",
       "        2023-08-02   Village 207   True   \n",
       "        2023-08-02   Village 508   True   \n",
       "        2023-08-03   Colony N M3   True   \n",
       "Sadie   2023-06-29    UP Men 120  False   \n",
       "        2023-06-29    UP Men 153  False   \n",
       "        2023-08-03  Colony E MM3   True   \n",
       "\n",
       "                                                                       RD Notes  \n",
       "Person  Deadline                                                                 \n",
       "Adam    2023-08-03                                                          NaN  \n",
       "        NaT                                                                 NaN  \n",
       "Aliza   2023-08-03                                                          NaN  \n",
       "        NaT                                                                 NaN  \n",
       "Ana     2023-07-27                     Please inspect all bedspaces; unit empty  \n",
       "        2023-08-02                                                   unit empty  \n",
       "        2023-08-02                      Please inspect A1 bedspaces; unit empty  \n",
       "        2023-08-02  no current residents in unit, please inspect all bed spaces  \n",
       "        2023-08-03  no current residents in unit, please inspect all bed spaces  \n",
       "Cadence 2023-08-03                       unit empty; please inspect A1 bedspace  \n",
       "        2023-08-03                       unit empty; please inspect A1 bedspace  \n",
       "        2023-08-03                                                          NaN  \n",
       "Paul    2023-07-27                  Please inspect A room bedspaces; unit empty  \n",
       "        2023-08-02                   Please inspect A1/A3 bedspaces; unit empty  \n",
       "        2023-08-02                                                Unit is empty  \n",
       "        2023-08-02                                                Unit is empty  \n",
       "        2023-08-02                                                          NaN  \n",
       "        2023-08-02                                                          NaN  \n",
       "        2023-08-03           Please inspect all bedspaces; unit empty until 8/4  \n",
       "Sadie   2023-06-29                                                   Unit empty  \n",
       "        2023-06-29                                                   Unit empty  \n",
       "        2023-08-03                     Please inspect all bedspaces; unit empty  "
      ]
     },
     "metadata": {},
     "output_type": "display_data"
    }
   ],
   "source": [
    "display(df)"
   ]
  },
  {
   "cell_type": "code",
   "execution_count": 34,
   "id": "5fd95235",
   "metadata": {},
   "outputs": [],
   "source": [
    "dfi.export(df, 'dataframe.png')"
   ]
  }
 ],
 "metadata": {
  "kernelspec": {
   "display_name": "Python 3 (ipykernel)",
   "language": "python",
   "name": "python3"
  },
  "language_info": {
   "codemirror_mode": {
    "name": "ipython",
    "version": 3
   },
   "file_extension": ".py",
   "mimetype": "text/x-python",
   "name": "python",
   "nbconvert_exporter": "python",
   "pygments_lexer": "ipython3",
   "version": "3.9.13"
  }
 },
 "nbformat": 4,
 "nbformat_minor": 5
}
